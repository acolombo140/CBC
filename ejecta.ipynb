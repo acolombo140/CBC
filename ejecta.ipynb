{
 "cells": [
  {
   "cell_type": "code",
   "execution_count": 30,
   "id": "d152412b-a325-43cc-b981-c46171acaa18",
   "metadata": {},
   "outputs": [],
   "source": [
    "import numpy as np\n",
    "from EoS import EOS_properties as ep\n",
    "import utilities.m_ejecta_disk_lambda as medl"
   ]
  },
  {
   "cell_type": "code",
   "execution_count": 31,
   "id": "d4ed49ee-378c-480f-aa91-bf77adf4c421",
   "metadata": {},
   "outputs": [],
   "source": [
    "Mbh = 4. #BH mass\n",
    "Mns = 1.2 #NS mass\n",
    "\n",
    "eos = \"SFHo\" #let's assume an EoS for the NS\n",
    "ens = ep.NS_EOS_properties(eos) #let's get the NS properties based on the EoS\n",
    "lamb_ns = ens.fun_lambda_kappa(Mns) #let's compute the NS deformability from Mns\n",
    "\n",
    "spin_bh = 0.1 #BH spin\n",
    "i_tilt = 0. #angle between BH spin and orbit plane\n",
    "\n",
    "m_dyn = medl.Mej_Foucart20_lambda(Mbh,Mns,spin_bh,i_tilt,lamb_ns) #dynamical ejecta mass based on Kruger&Foucart20 eq.9\n",
    "m_out = medl.M_out_f18_lambda(Mbh,Mns,spin_bh,lamb_ns) #mass expelled based on Foucart+18 eq.4\n",
    "\n",
    "f = 0.5\n",
    "if (m_dyn>f*m_out):\n",
    "    m_dyn = f*m_out #we assume that m_dyn cannot be larger than f*m_out (see Foucart+19, Rees+88)\n",
    "m_disk = np.maximum(m_out - m_dyn,0.) #now we can compute the disk mass as the difference between m_out and m_dyn\n",
    "v_dyn = medl.vej_Kawaguchi16(Mbh,Mns) #dynamical ejecta velocity based on kawaguchi+16 eq.1"
   ]
  },
  {
   "cell_type": "code",
   "execution_count": null,
   "id": "c1ef2428-2ef8-47f9-817c-69c4eeacb05b",
   "metadata": {},
   "outputs": [],
   "source": []
  }
 ],
 "metadata": {
  "kernelspec": {
   "display_name": "Python 3",
   "language": "python",
   "name": "python3"
  },
  "language_info": {
   "codemirror_mode": {
    "name": "ipython",
    "version": 3
   },
   "file_extension": ".py",
   "mimetype": "text/x-python",
   "name": "python",
   "nbconvert_exporter": "python",
   "pygments_lexer": "ipython3",
   "version": "3.7.10"
  }
 },
 "nbformat": 4,
 "nbformat_minor": 5
}
